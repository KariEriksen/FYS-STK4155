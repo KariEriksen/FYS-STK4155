{
 "cells": [
  {
   "cell_type": "code",
   "execution_count": 2,
   "metadata": {},
   "outputs": [
    {
     "name": "stdout",
     "output_type": "stream",
     "text": [
      "Max absolute difference between analytical solution and TensorFlow DNN = 0.00687778\n"
     ]
    }
   ],
   "source": [
    "import tensorflow as tf\n",
    "import numpy as np\n",
    "from matplotlib import cm\n",
    "from matplotlib import pyplot as plt\n",
    "from mpl_toolkits.mplot3d import axes3d\n",
    "import sys\n",
    "\n",
    "# Just to reset the graph such that it is possible to rerun this in a\n",
    "# Jupyter cell without resetting the whole kernel.\n",
    "tf.reset_default_graph()\n",
    "# Set a seed to ensure getting the same results from every run\n",
    "tf.set_random_seed(4155)\n",
    "\n",
    "Nx = 10\n",
    "x_np = np.linspace(0,1,Nx)\n",
    "Nt = 10\n",
    "t_np = np.linspace(0,0.1,Nt)\n",
    "\n",
    "X,T = np.meshgrid(x_np, t_np)\n",
    "x = X.ravel()\n",
    "t = T.ravel()\n",
    "## The construction phase\n",
    "zeros = tf.reshape(tf.convert_to_tensor(np.zeros(x.shape)),shape=(-1,1))\n",
    "x = tf.reshape(tf.convert_to_tensor(x),shape=(-1,1))\n",
    "t = tf.reshape(tf.convert_to_tensor(t),shape=(-1,1))\n",
    "points = tf.concat([x,t],1)\n",
    "num_iter = 100000\n",
    "num_hidden_neurons = [90]\n",
    "X = tf.convert_to_tensor(X)\n",
    "T = tf.convert_to_tensor(T)\n",
    "\n",
    "with tf.variable_scope('dnn'):\n",
    "    num_hidden_layers = np.size(num_hidden_neurons)\n",
    "    previous_layer = points\n",
    "    for l in range(num_hidden_layers):\n",
    "        current_layer = tf.layers.dense(previous_layer, num_hidden_neurons[l],activation=tf.nn.sigmoid)\n",
    "        previous_layer = current_layer\n",
    "    dnn_output = tf.layers.dense(previous_layer, 1)\n",
    "    \n",
    "def u(x):\n",
    "    return tf.sin(np.pi*x)\n",
    "\n",
    "with tf.name_scope('loss'):\n",
    "    g_trial = (1-t)*u(x) + x*(1-x)*t*dnn_output\n",
    "    g_trial_dt = tf.gradients(g_trial,t)\n",
    "    g_trial_d2x = tf.gradients(tf.gradients(g_trial,x),x)\n",
    "    loss = tf.losses.mean_squared_error(zeros, g_trial_dt[0] - g_trial_d2x[0])\n",
    "    \n",
    "learning_rate = 0.01\n",
    "with tf.name_scope('train'):\n",
    "    optimizer = tf.train.GradientDescentOptimizer(learning_rate)\n",
    "    traning_op = optimizer.minimize(loss)\n",
    "\n",
    "init = tf.global_variables_initializer()\n",
    "g_analytic = tf.exp(-np.pi**2*t)*tf.sin(np.pi*x)\n",
    "g_dnn = None\n",
    "\n",
    "## The execution phase\n",
    "with tf.Session() as sess:\n",
    "    init.run()\n",
    "    for i in range(num_iter):\n",
    "        sess.run(traning_op)\n",
    "        # If one desires to see how the cost function behaves during training\n",
    "        #if i % 100 == 0:\n",
    "        #print(loss.eval())\n",
    "    g_analytic = g_analytic.eval()\n",
    "    g_dnn = g_trial.eval()\n",
    "    \n",
    "## Compare with the analutical solution\n",
    "diff = np.abs(g_analytic - g_dnn)\n",
    "print('Max absolute difference between analytical solution and TensorFlow DNN = %g' % np.max(diff))\n",
    "G_analytic = g_analytic.reshape((Nt,Nx))\n",
    "G_dnn = g_dnn.reshape((Nt,Nx))\n",
    "diff = np.abs(G_analytic - G_dnn)"
   ]
  },
  {
   "cell_type": "code",
   "execution_count": 4,
   "metadata": {
    "scrolled": true
   },
   "outputs": [
    {
     "data": {
      "image/png": "[encoded data removed]",
      "text/plain": [
       "<Figure size 432x288 with 1 Axes>"
      ]
     },
     "metadata": {},
     "output_type": "display_data"
    }
   ],
   "source": [
    "# Plot the slices\n",
    "indx1 = 0\n",
    "indx2 = int(Nt/2)\n",
    "indx3 = Nt-1\n",
    "t1 = t_np[indx1]\n",
    "t2 = t_np[indx2]\n",
    "t3 = t_np[indx3]\n",
    "\n",
    "# Slice the results from the DNN\n",
    "res1 = G_dnn[indx1,:]\n",
    "res2 = G_dnn[indx2,:]\n",
    "res3 = G_dnn[indx3,:]\n",
    "# Slice the analytical results\n",
    "res_analytical1 = G_analytic[indx1,:]\n",
    "res_analytical2 = G_analytic[indx2,:]\n",
    "res_analytical3 = G_analytic[indx3,:]\n",
    "\n",
    "plt.title(\"Computed solutions at time = %g\"%t3)\n",
    "plt.plot(x_np, res3,'ob')\n",
    "plt.plot(x_np,res_analytical3,'-r')\n",
    "plt.legend(['dnn','analytical'])\n",
    "plt.xlabel('x')\n",
    "plt.ylabel('u(x,t=0.1)')\n",
    "plt.show()"
   ]
  },
  {
   "cell_type": "code",
   "execution_count": 30,
   "metadata": {},
   "outputs": [
    {
     "name": "stdout",
     "output_type": "stream",
     "text": [
      "10\n"
     ]
    }
   ],
   "source": []
  },
  {
   "cell_type": "code",
   "execution_count": null,
   "metadata": {},
   "outputs": [],
   "source": []
  }
 ],
 "metadata": {
  "kernelspec": {
   "display_name": "Python 3",
   "language": "python",
   "name": "python3"
  },
  "language_info": {
   "codemirror_mode": {
    "name": "ipython",
    "version": 3
   },
   "file_extension": ".py",
   "mimetype": "text/x-python",
   "name": "python",
   "nbconvert_exporter": "python",
   "pygments_lexer": "ipython3",
   "version": "3.6.5"
  }
 },
 "nbformat": 4,
 "nbformat_minor": 2
}
