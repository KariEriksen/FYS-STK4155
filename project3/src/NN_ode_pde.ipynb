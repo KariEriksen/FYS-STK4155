{
 "cells": [
  {
   "cell_type": "markdown",
   "metadata": {},
   "source": [
    "# Ordinary Differential Equations\n",
    "\n",
    "In general, an ordinary differential equation looks like\n",
    "\\begin{equation}\n",
    "f(x,g(x),g'(x),\\dots, g^{(n)}(x)) = 0\n",
    "\\end{equation}\n",
    "where $g(x)$ is the unknown.\n",
    "\n",
    "### Trial solution\n",
    "Let the trial solution be given by \n",
    "\\begin{equation}\n",
    "g_t(x) = h_1(x) + h_2(x,N(x,P))\n",
    "\\end{equation}\n",
    "where $h_1(x)$ is a function that makes $g_t(x)$ satisfy a given set of conditions, $N(x,P)$ a neural network with weights and biases described by P and\n",
    "$h_2(x,N(x,P))$ some expression involving the neural network.\n",
    "### Cost function\n",
    "\\begin{equation}\n",
    "c(\\vec{x},P) = \\frac{1}{N} \\sum_{i=1}^N \\left( f(x,g(x),g'(x),\\dots, g^{(n)}(x)) \\right)^2\n",
    "\\end{equation}"
   ]
  },
  {
   "cell_type": "markdown",
   "metadata": {},
   "source": [
    "# Example: Exponential decay and setting up the network using Autograd\n",
    "An exponential decay of a quantity is described by the equation\n",
    "\\begin{equation}\n",
    "g'(x) = -\\gamma g(x), \\ \\ g(0) = g_0\n",
    "\\end{equation}\n",
    "with corresponding analytical solution \n",
    "\\begin{equation}\n",
    "g(x) = g_0 \\exp(-\\gamma x).\n",
    "\\end{equation}\n",
    "\n",
    "Trial solution:\n",
    "\\begin{equation}\n",
    "g_t(x,P) = g_0 + x \\cdot N(x,P)\n",
    "\\end{equation}\n",
    "and we have to find $P$ such that we minimize the cost function \n",
    "\\begin{equation}\n",
    "\\text{min}_P  \\frac{1}{N} \\sum_{i=1}^N \\left( g_t^\\prime(x_i,P) - (-\\gamma g_t(x_i,P)\\right)^2\n",
    "\\end{equation}"
   ]
  },
  {
   "cell_type": "code",
   "execution_count": 16,
   "metadata": {},
   "outputs": [],
   "source": [
    "import autograd.numpy as np\n",
    "from autograd import grad, elementwise_grad\n",
    "import autograd.numpy.random as npr\n",
    "from matplotlib import pyplot as plt\n",
    "\n",
    "def sigmoid(z):\n",
    "    return 1/(1 + np.exp(-z))\n",
    "\n",
    "# Assuming one input, hidden, and output layer\n",
    "def neural_network(params, x):\n",
    " \n",
    "    #Find the weights (including and biases) for the hidden and output layer.\n",
    "    #Assume that params is a list of parameters for each layer.\n",
    "    #The biases are the first element for each array in params,\n",
    "    #and the weights are the remaning elements in each array in params.\n",
    "    w_hidden = params[0]\n",
    "    w_output = params[1]\n",
    "    \n",
    "    # Assumes input x being an one-dimensional array\n",
    "    num_values = np.size(x)\n",
    "    x = x.reshape(-1, num_values)\n",
    "    \n",
    "    # Assume that the input layer does nothing to the input x\n",
    "    x_input = x\n",
    "    \n",
    "    ## Hidden layer:\n",
    "    # Add a row of ones to include bias\n",
    "    x_input = np.concatenate((np.ones((1,num_values)), x_input ), axis = 0)\n",
    "    \n",
    "    z_hidden = np.dot(w_hidden, x_input)\n",
    "    x_hidden = sigmoid(z_hidden)\n",
    "    \n",
    "    ## Output layer:\n",
    "    # Include bias:\n",
    "    x_hidden = np.concatenate((np.ones((1,num_values)), x_hidden ), axis = 0)\n",
    "    \n",
    "    z_output = np.dot(w_output, x_hidden)\n",
    "    x_output = z_output\n",
    "    \n",
    "    return x_output\n",
    "\n",
    "# The trial solution using the deep neural network:\n",
    "def g_trial(x,params, g0 = 10):\n",
    "    return g0 + x*neural_network(params,x)\n",
    "\n",
    "# The right side of the ODE:\n",
    "def g(x, g_trial, gamma = 2):\n",
    "    return -gamma*g_trial\n",
    "\n",
    "# The cost function:\n",
    "def cost_function(P, x):\n",
    "    \n",
    "    # Evaluate the trial function with the current parameters P\n",
    "    g_t = g_trial(x,P)\n",
    "    \n",
    "    # Find the derivative w.r.t x of the neural network\n",
    "    d_net_out = elementwise_grad(neural_network,1)(P,x)\n",
    "    \n",
    "    # Find the derivative w.r.t x of the trial function\n",
    "    d_g_t = elementwise_grad(g_trial,0)(x,P)\n",
    "    \n",
    "    # The right side of the ODE\n",
    "    func = g(x, g_t)\n",
    "    err_sqr = (d_g_t - func)**2\n",
    "    cost_sum = np.sum(err_sqr)\n",
    "    return cost_sum / np.size(err_sqr)\n",
    "\n",
    "# Solve the exponential decay ODE using neural network with one input, hidden, and output layer\n",
    "def solve_ode_neural_network(x, num_neurons_hidden, num_iter, lmb):\n",
    "    ## Set up initial weights and biases\n",
    "    # For the hidden layer\n",
    "    p0 = npr.randn(num_neurons_hidden, 2 )\n",
    "    # For the output layer\n",
    "    p1 = npr.randn(1, num_neurons_hidden + 1 ) # +1 since bias is included\n",
    "    P = [p0, p1]\n",
    "    print('Initial cost: %g'%cost_function(P, x))\n",
    "    ## Start finding the optimal weights using gradient descent\n",
    "    # Find the Python function that represents the gradient of the cost function\n",
    "    # w.r.t the 0-th input argument -- that is the weights and biases in the hidden and output lay\n",
    "    cost_function_grad = grad(cost_function,0)\n",
    "    # Let the update be done num_iter times\n",
    "    for i in range(num_iter):\n",
    "        # Evaluate the gradient at the current weights and biases in P.\n",
    "        # The cost_grad consist now of two arrays;\n",
    "        # one for the gradient w.r.t P_hidden and\n",
    "        # one for the gradient w.r.t P_output\n",
    "        cost_grad = cost_function_grad(P, x)\n",
    "        P[0] = P[0] - lmb * cost_grad[0]\n",
    "        P[1] = P[1] - lmb * cost_grad[1]\n",
    "    print('Final cost: %g'%cost_function(P, x))\n",
    "    return P\n",
    "\n",
    "def g_analytic(x, gamma = 2, g0 = 10):\n",
    "    return g0*np.exp(-gamma*x)"
   ]
  },
  {
   "cell_type": "code",
   "execution_count": 28,
   "metadata": {},
   "outputs": [
    {
     "name": "stdout",
     "output_type": "stream",
     "text": [
      "Initial cost: 367.01\n",
      "Final cost: 0.0666807\n",
      "Max absolute difference: 0.0437499\n"
     ]
    }
   ],
   "source": [
    "# Set seed such that the weight are initialized\n",
    "# with same weights and biases for every run.\n",
    "npr.seed(15)\n",
    "\n",
    "## Decide the vales of arguments to the function to solve\n",
    "N = 10\n",
    "x = np.linspace(0, 1, N)\n",
    "\n",
    "## Set up the initial parameters\n",
    "num_hidden_neurons = 10\n",
    "num_iter = int(1e4)\n",
    "lmb = 0.001\n",
    "\n",
    "# Use the network\n",
    "P = solve_ode_neural_network(x, num_hidden_neurons, num_iter, lmb)\n",
    "\n",
    "# Print the deviation from the trial solution and true solution\n",
    "res = g_trial(x,P)\n",
    "res_analytical = g_analytic(x)\n",
    "print('Max absolute difference: %g'%np.max(np.abs(res - res_analytical)))"
   ]
  },
  {
   "cell_type": "code",
   "execution_count": 29,
   "metadata": {},
   "outputs": [
    {
     "data": {
      "image/png": "[encoded data removed]",
      "text/plain": [
       "<Figure size 720x720 with 1 Axes>"
      ]
     },
     "metadata": {},
     "output_type": "display_data"
    }
   ],
   "source": [
    "# Plot the results\n",
    "plt.figure(figsize=(10,10))\n",
    "plt.title('Performance of neural network solving an ODE compared to the analytical solution')\n",
    "plt.plot(x, res_analytical)\n",
    "plt.plot(x, res[0,:])\n",
    "plt.legend(['analytical','nn'])\n",
    "plt.xlabel('x')\n",
    "plt.ylabel('g(x)')\n",
    "plt.show()"
   ]
  },
  {
   "cell_type": "code",
   "execution_count": null,
   "metadata": {},
   "outputs": [],
   "source": []
  }
 ],
 "metadata": {
  "kernelspec": {
   "display_name": "Python 3",
   "language": "python",
   "name": "python3"
  },
  "language_info": {
   "codemirror_mode": {
    "name": "ipython",
    "version": 3
   },
   "file_extension": ".py",
   "mimetype": "text/x-python",
   "name": "python",
   "nbconvert_exporter": "python",
   "pygments_lexer": "ipython3",
   "version": "3.6.5"
  }
 },
 "nbformat": 4,
 "nbformat_minor": 2
}
